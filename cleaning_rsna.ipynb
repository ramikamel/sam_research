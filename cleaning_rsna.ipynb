{
 "cells": [
  {
   "cell_type": "code",
   "execution_count": 1,
   "metadata": {},
   "outputs": [],
   "source": [
    "import pandas as pd"
   ]
  },
  {
   "cell_type": "code",
   "execution_count": 2,
   "metadata": {},
   "outputs": [
    {
     "name": "stdout",
     "output_type": "stream",
     "text": [
      "                              patientId      x      y  width  height  Target\n",
      "0  0004cfab-14fd-4e49-80ba-63a80b6bddd6    NaN    NaN    NaN     NaN       0\n",
      "1  00313ee0-9eaa-42f4-b0ab-c148ed3241cd    NaN    NaN    NaN     NaN       0\n",
      "2  00322d4d-1c29-4943-afc9-b6754be640eb    NaN    NaN    NaN     NaN       0\n",
      "3  003d8fa0-6bf1-40ed-b54c-ac657f8495c5    NaN    NaN    NaN     NaN       0\n",
      "4  00436515-870c-4b36-a041-de91049b9ab4  264.0  152.0  213.0   379.0       1\n"
     ]
    }
   ],
   "source": [
    "# Read the CSV file into a DataFrame\n",
    "df = pd.read_csv('rsna-pneumonia-detection-challenge/stage_2_train_labels.csv')\n",
    "\n",
    "# Display the first few rows of the DataFrame to understand its structure\n",
    "print(df.head())"
   ]
  },
  {
   "cell_type": "code",
   "execution_count": 3,
   "metadata": {},
   "outputs": [
    {
     "name": "stdout",
     "output_type": "stream",
     "text": [
      "                                  patientId      x      y  width  height  \\\n",
      "4      00436515-870c-4b36-a041-de91049b9ab4  264.0  152.0  213.0   379.0   \n",
      "5      00436515-870c-4b36-a041-de91049b9ab4  562.0  152.0  256.0   453.0   \n",
      "8      00704310-78a8-4b38-8475-49f4573b2dbb  323.0  577.0  160.0   104.0   \n",
      "9      00704310-78a8-4b38-8475-49f4573b2dbb  695.0  575.0  162.0   137.0   \n",
      "14     00aecb01-a116-45a2-956c-08d2fa55433f  288.0  322.0   94.0   135.0   \n",
      "...                                     ...    ...    ...    ...     ...   \n",
      "30220  c1e73a4e-7afe-4ec5-8af6-ce8315d7a2f2  316.0  504.0  179.0   273.0   \n",
      "30221  c1ec14ff-f6d7-4b38-b0cb-fe07041cbdc8  609.0  464.0  240.0   284.0   \n",
      "30222  c1ec14ff-f6d7-4b38-b0cb-fe07041cbdc8  185.0  298.0  228.0   379.0   \n",
      "30225  c1f7889a-9ea9-4acb-b64c-b737c929599a  570.0  393.0  261.0   345.0   \n",
      "30226  c1f7889a-9ea9-4acb-b64c-b737c929599a  233.0  424.0  201.0   356.0   \n",
      "\n",
      "       Target  \n",
      "4           1  \n",
      "5           1  \n",
      "8           1  \n",
      "9           1  \n",
      "14          1  \n",
      "...       ...  \n",
      "30220       1  \n",
      "30221       1  \n",
      "30222       1  \n",
      "30225       1  \n",
      "30226       1  \n",
      "\n",
      "[9555 rows x 6 columns]\n"
     ]
    }
   ],
   "source": [
    "df_filtered = df[df['Target'] != 0]\n",
    "print(df_filtered)"
   ]
  },
  {
   "cell_type": "code",
   "execution_count": 4,
   "metadata": {},
   "outputs": [
    {
     "name": "stdout",
     "output_type": "stream",
     "text": [
      "                               patientId     x1     y1     x2     y2\n",
      "4   00436515-870c-4b36-a041-de91049b9ab4  264.0  152.0  477.0  531.0\n",
      "5   00436515-870c-4b36-a041-de91049b9ab4  562.0  152.0  818.0  605.0\n",
      "8   00704310-78a8-4b38-8475-49f4573b2dbb  323.0  577.0  483.0  681.0\n",
      "9   00704310-78a8-4b38-8475-49f4573b2dbb  695.0  575.0  857.0  712.0\n",
      "14  00aecb01-a116-45a2-956c-08d2fa55433f  288.0  322.0  382.0  457.0\n"
     ]
    }
   ],
   "source": [
    "# Rename columns 'x' to 'x1' and 'y' to 'y1'\n",
    "df_filtered = df_filtered.rename(columns={'x': 'x1', 'y': 'y1'})\n",
    "\n",
    "# Remove target column\n",
    "df_filtered = df_filtered.drop(columns=['Target'])\n",
    "\n",
    "# Create a new column 'x2' that is 'x1' + 'width'\n",
    "df_filtered['x2'] = df_filtered['x1'] + df_filtered['width']\n",
    "\n",
    "# Create a new column 'y2' that is 'y1' + 'height'\n",
    "df_filtered['y2'] = df_filtered['y1'] + df_filtered['height']\n",
    "\n",
    "# Delete 'width' and 'height' columns\n",
    "df_filtered = df_filtered.drop(columns=['width', 'height'])\n",
    "print(df_filtered.head())"
   ]
  },
  {
   "cell_type": "code",
   "execution_count": 5,
   "metadata": {},
   "outputs": [],
   "source": [
    "# Write the df_filtered DataFrame to a new CSV file\n",
    "#df_filtered.to_csv('cleaned_train_data.csv', index=False)"
   ]
  },
  {
   "cell_type": "code",
   "execution_count": 25,
   "metadata": {},
   "outputs": [
    {
     "name": "stdout",
     "output_type": "stream",
     "text": [
      "Number of rows in the cleaned CSV file: 9555\n",
      "Number of distinct patient IDs in the cleaned CSV file: 6012\n"
     ]
    }
   ],
   "source": [
    "# Print the number of rows in the cleaned CSV file\n",
    "print(f\"Number of rows in the cleaned CSV file: {len(df_filtered)}\")\n",
    "\n",
    "# Print the number of distinct patient IDs in the cleaned CSV file\n",
    "num_distinct_patient_ids = df_filtered['patientId'].nunique()\n",
    "print(f\"Number of distinct patient IDs in the cleaned CSV file: {num_distinct_patient_ids}\")"
   ]
  }
 ],
 "metadata": {
  "kernelspec": {
   "display_name": "Python 3",
   "language": "python",
   "name": "python3"
  },
  "language_info": {
   "codemirror_mode": {
    "name": "ipython",
    "version": 3
   },
   "file_extension": ".py",
   "mimetype": "text/x-python",
   "name": "python",
   "nbconvert_exporter": "python",
   "pygments_lexer": "ipython3",
   "version": "3.12.4"
  }
 },
 "nbformat": 4,
 "nbformat_minor": 2
}
